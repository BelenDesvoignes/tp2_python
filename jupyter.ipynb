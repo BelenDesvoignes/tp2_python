{
 "cells": [
  {
   "cell_type": "code",
   "execution_count": 5,
   "metadata": {},
   "outputs": [],
   "source": [
    "names = \"\"\"Agustin, Yanina, Andrés, Ariadna, Bautista, CAROLINA, CESAR, David, Diego, Dolores, DYLAN, ELIANA, Emanuel, \n",
    "Fabián, Noelia, Francisca, FEDERICO, Fernanda, GONZALO, Nancy\"\"\"\n",
    "\n",
    "goals = [0, 10, 4, 0, 5, 14, 0, 0, 7, 2, 1, 1, 1, 5, 6, 1, 1, 2, 0, 11]\n",
    "goals_avoided = [0, 2, 0, 0, 5, 2, 0, 0, 1, 2, 0, 5, 5, 0, 1, 0, 2, 3, 0, 0]\n",
    "assists = [0, 5, 1, 0, 5, 2, 0, 0, 1, 2, 1, 5, 5, 0, 1, 0, 2, 3, 1, 0] "
   ]
  },
  {
   "cell_type": "markdown",
   "metadata": {},
   "source": [
    "Creo una lista con los nombres, los nombres tienen solo la primer letra en mayúscula. "
   ]
  },
  {
   "cell_type": "code",
   "execution_count": 6,
   "metadata": {},
   "outputs": [],
   "source": [
    "names_list = names.replace(\",\", \" \").split() #Convierte los nombres a una lista\n",
    "\n",
    "for i in range (len(names_list)): \n",
    "    names_list[i]= names_list[i].lower() #todo a minúscula\n",
    "    names_list[i]= names_list[i][0].upper() + names_list[i][1:]  #convierte primer letra a mayus"
   ]
  },
  {
   "cell_type": "markdown",
   "metadata": {},
   "source": [
    "Cree un diccionario, la clave es el nombre del jugador/a y el valor es otro diccionario que contiene los goles, los goles evitados y las asistencias.\n",
    "***La idea es poder  acceder a cada dato mediante el nombre (del jugador y del dato).  ***\n",
    "Esto hace que el código sea más legible, si elegía una estructura de tipo lista, habría que acceder por medio de índices. "
   ]
  },
  {
   "cell_type": "code",
   "execution_count": 7,
   "metadata": {},
   "outputs": [],
   "source": [
    "diccionario= {}    \n",
    "\n",
    "for i in range (len(names_list)): \n",
    "    name= names_list[i]\n",
    "    diccionario[name] = {\n",
    "        \"goals\": goals[i],\n",
    "        \"goals_avoided\" : goals_avoided[i],\n",
    "        \"assists\": assists[i]\n",
    "    }"
   ]
  },
  {
   "cell_type": "code",
   "execution_count": 8,
   "metadata": {},
   "outputs": [],
   "source": [
    "from modulo import *"
   ]
  },
  {
   "cell_type": "code",
   "execution_count": 9,
   "metadata": {},
   "outputs": [
    {
     "name": "stdout",
     "output_type": "stream",
     "text": [
      "El goleador/a es Carolina, la cantidad de goles es 14\n"
     ]
    },
    {
     "data": {
      "text/plain": [
       "'Carolina'"
      ]
     },
     "execution_count": 9,
     "metadata": {},
     "output_type": "execute_result"
    }
   ],
   "source": [
    "top_scorer(diccionario)"
   ]
  },
  {
   "cell_type": "code",
   "execution_count": 10,
   "metadata": {},
   "outputs": [
    {
     "data": {
      "text/plain": [
       "'El jugador/a más influyente es Carolina'"
      ]
     },
     "execution_count": 10,
     "metadata": {},
     "output_type": "execute_result"
    }
   ],
   "source": [
    "most_influential_player(diccionario) "
   ]
  },
  {
   "cell_type": "code",
   "execution_count": 11,
   "metadata": {},
   "outputs": [
    {
     "data": {
      "text/plain": [
       "'El promedio de goles por partido del equipo es 2.84'"
      ]
     },
     "execution_count": 11,
     "metadata": {},
     "output_type": "execute_result"
    }
   ],
   "source": [
    "team_goals_average(goals)"
   ]
  },
  {
   "cell_type": "code",
   "execution_count": 12,
   "metadata": {},
   "outputs": [
    {
     "name": "stdout",
     "output_type": "stream",
     "text": [
      "El goleador/a es Carolina, la cantidad de goles es 14\n",
      "El promedio de goles del goleador/a es 0.56\n"
     ]
    }
   ],
   "source": [
    "name_top_scorer= top_scorer(diccionario)\n",
    "player_average(name_top_scorer,diccionario)"
   ]
  }
 ],
 "metadata": {
  "kernelspec": {
   "display_name": "Python 3",
   "language": "python",
   "name": "python3"
  },
  "language_info": {
   "codemirror_mode": {
    "name": "ipython",
    "version": 3
   },
   "file_extension": ".py",
   "mimetype": "text/x-python",
   "name": "python",
   "nbconvert_exporter": "python",
   "pygments_lexer": "ipython3",
   "version": "3.11.2"
  }
 },
 "nbformat": 4,
 "nbformat_minor": 2
}
